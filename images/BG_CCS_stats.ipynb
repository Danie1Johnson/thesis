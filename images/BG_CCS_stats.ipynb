{
 "metadata": {
  "name": "",
  "signature": "sha256:dbfd32aaef3a17a777d9de87a5aec6300f0db0fcfa95214243c76ca1b7c95c0d"
 },
 "nbformat": 3,
 "nbformat_minor": 0,
 "worksheets": [
  {
   "cells": [
    {
     "cell_type": "code",
     "collapsed": false,
     "input": [
      "%matplotlib inline"
     ],
     "language": "python",
     "metadata": {},
     "outputs": [],
     "prompt_number": 53
    },
    {
     "cell_type": "code",
     "collapsed": false,
     "input": [
      "import numpy as np\n",
      "import mpmath as mp\n",
      "import matplotlib.pyplot as plt"
     ],
     "language": "python",
     "metadata": {},
     "outputs": [],
     "prompt_number": 54
    },
    {
     "cell_type": "code",
     "collapsed": false,
     "input": [
      "platonic_names_uc = [\"Tetrahedron\",\n",
      "                     \"Cube\", \n",
      "                     \"Octahedron\",\n",
      "                     \"Dodecahedron\",\n",
      "                     \"Icosahedron\"]\n",
      "platonic_names = [\"tetrahedron\",\n",
      "                  \"cube\", \n",
      "                  \"octahedron\",\n",
      "                  \"dodecahedron\",\n",
      "                  \"icosahedron\"]\n",
      "platonic_faces = [4, 6, 8, 12, 20]\n",
      "platonic_ints = [4, 8, 14, 73, 2649]\n",
      "platonic_cons = [3, 9, 21, 263, 17241]\n",
      "platonic_paths = [1, 3, 14, 17696, 57396146640]\n",
      "platonic_shell_ints = [4, 7, 11, 52, 469]\n",
      "platonic_shell_cons = [5, 7, 13, 155, 1985]\n",
      "platonic_shell_paths = [1, 2, 4, 2166, 105999738]"
     ],
     "language": "python",
     "metadata": {},
     "outputs": [],
     "prompt_number": 55
    },
    {
     "cell_type": "code",
     "collapsed": false,
     "input": [
      "archimedean_names_uc = [\"Truncated Tetrahedron\",\n",
      "                     \"Cuboctahedron\",\n",
      "                     \"Truncated Cube\",\n",
      "                     \"Truncated Octahedron\",\n",
      "                     \"Rhombicuboctahedron\",\n",
      "                     \"Truncated Cuboctahedron\"]\n",
      "archimedean_names = [\"truncated_tetrahedron\",\n",
      "                     \"cuboctahedron\",\n",
      "                     \"truncated_cube\",\n",
      "                     \"truncated_octahedron\",\n",
      "                     \"rhombicuboctahedron\",\n",
      "                     \"truncated_cuboctahedron\"]\n",
      "archimedean_faces = [8, 14, 14, 14, 26, 26]\n",
      "archimedean_ints = [28, 340, 499, 555, 638850, 1525658]\n",
      "archimedean_cons = [63, 1634, 2729, 3069, 6459801, 17672374]\n",
      "archimedean_paths = [402, 10170968, 101443338, 68106377, mp.mpf('164068345221515292308'), mp.mpf('13837219462483379105902')]\n",
      "archimedean_shell_ints = [21, 136, 247, 342, 70887, 515335]\n",
      "archimedean_shell_cons = [40, 468, 1000, 1464, 462721, 4070813]\n",
      "archimedean_shell_paths = [174, 477776, 5232294, 5704138, 64308526503247584, 13890723216176694816]\n",
      "\n"
     ],
     "language": "python",
     "metadata": {},
     "outputs": [],
     "prompt_number": 56
    },
    {
     "cell_type": "code",
     "collapsed": false,
     "input": [
      "catalan_names_uc = [\"Triakis Tetrahedron\",\n",
      "                    \"Rhombic Dodecahedron\",\n",
      "                    \"Triakis Octahedron\",\n",
      "                    \"Tetrakis Hexahedron\",\n",
      "                    \"Deltoidal Icositetrahedron\",\n",
      "                    \"Pentagonal Icositetrahedron\",\n",
      "                    \"Rhombic Triacontahedron\"]\n",
      "catalan_names = [\"triakis_tetrahedron\",\n",
      "                 \"rhombic_dodecahedron\",\n",
      "                 \"triakis_octahedron\",\n",
      "                 \"tetrakis_hexahedron\",\n",
      "                 \"deltoidal_icositetrahedron\",\n",
      "                 \"pentagonal_icositetrahedron\",\n",
      "                 \"rhombic_triacontahedron\"]\n",
      "catalan_faces = [12, 12, 24, 24, 24, 24, 30]\n",
      "catalan_ints = [98, 127, 12748, 50767, 209675, 345938, 2423212]\n",
      "catalan_cons = [318, 493, 81296, 394377, 1989548, 3544987, 26823095]\n",
      "catalan_paths = [38938, 76936, 169402670046670, 4253948297210346, 418663242727526726, 2828128000716774492, 161598744916797017978128]\n",
      "catalan_shell_ints = [48, 67, 1021, 4224, 33046, 95326, 97741]\n",
      "catalan_shell_cons = [115, 195, 4237, 21125, 208317, 657013, 702219]\n",
      "catalan_shell_paths = [5012, 6258, 210459770300, 5894431702846, 703619122996096, 7572459719248765, 7057239571753327764]"
     ],
     "language": "python",
     "metadata": {},
     "outputs": [],
     "prompt_number": 57
    },
    {
     "cell_type": "code",
     "collapsed": false,
     "input": [
      "plt.plot(platonic_faces, np.log(platonic_ints),'o')\n",
      "plt.plot(archimedean_faces, np.log(archimedean_ints),'ro')\n",
      "plt.plot(catalan_faces, np.log(catalan_ints),'go')"
     ],
     "language": "python",
     "metadata": {},
     "outputs": [
      {
       "metadata": {},
       "output_type": "pyout",
       "prompt_number": 64,
       "text": [
        "[<matplotlib.lines.Line2D at 0x7f3a98b2f590>]"
       ]
      },
      {
       "metadata": {},
       "output_type": "display_data",
       "png": "[encoded data removed]",
       "text": [
        "<matplotlib.figure.Figure at 0x7f3a98baa0d0>"
       ]
      }
     ],
     "prompt_number": 64
    },
    {
     "cell_type": "code",
     "collapsed": false,
     "input": [
      "plt.plot(platonic_faces, np.log(platonic_cons),'o')\n",
      "plt.plot(archimedean_faces, np.log(archimedean_cons),'ro')\n",
      "plt.plot(catalan_faces, np.log(catalan_cons),'go')"
     ],
     "language": "python",
     "metadata": {},
     "outputs": [
      {
       "metadata": {},
       "output_type": "pyout",
       "prompt_number": 65,
       "text": [
        "[<matplotlib.lines.Line2D at 0x7f3a98a72410>]"
       ]
      },
      {
       "metadata": {},
       "output_type": "display_data",
       "png": "[encoded data removed]",
       "text": [
        "<matplotlib.figure.Figure at 0x7f3a98cbad90>"
       ]
      }
     ],
     "prompt_number": 65
    },
    {
     "cell_type": "code",
     "collapsed": false,
     "input": [
      "plt.plot(platonic_faces, np.log(platonic_paths),'o')\n",
      "plt.plot(archimedean_faces, [mp.log(x) for x in archimedean_paths],'ro')\n",
      "plt.plot(catalan_faces, [mp.log(x) for x in catalan_paths],'go')"
     ],
     "language": "python",
     "metadata": {},
     "outputs": [
      {
       "metadata": {},
       "output_type": "pyout",
       "prompt_number": 66,
       "text": [
        "[<matplotlib.lines.Line2D at 0x7f3a989b2b90>]"
       ]
      },
      {
       "metadata": {},
       "output_type": "display_data",
       "png": "[encoded data removed]",
       "text": [
        "<matplotlib.figure.Figure at 0x7f3a98a2ff90>"
       ]
      }
     ],
     "prompt_number": 66
    },
    {
     "cell_type": "code",
     "collapsed": false,
     "input": [
      "plt.plot(platonic_faces, np.log(platonic_shell_ints),'o')\n",
      "plt.plot(archimedean_faces, np.log(archimedean_shell_ints),'ro')\n",
      "plt.plot(catalan_faces, np.log(catalan_shell_ints),'go')"
     ],
     "language": "python",
     "metadata": {},
     "outputs": [
      {
       "metadata": {},
       "output_type": "pyout",
       "prompt_number": 67,
       "text": [
        "[<matplotlib.lines.Line2D at 0x7f3a988eb910>]"
       ]
      },
      {
       "metadata": {},
       "output_type": "display_data",
       "png": "[encoded data removed]",
       "text": [
        "<matplotlib.figure.Figure at 0x7f3a98af4890>"
       ]
      }
     ],
     "prompt_number": 67
    },
    {
     "cell_type": "code",
     "collapsed": false,
     "input": [
      "plt.plot(platonic_faces, np.log(platonic_shell_cons),'o')\n",
      "plt.plot(archimedean_faces, np.log(archimedean_shell_cons),'ro')\n",
      "plt.plot(catalan_faces, np.log(catalan_shell_cons),'go')"
     ],
     "language": "python",
     "metadata": {},
     "outputs": [
      {
       "metadata": {},
       "output_type": "pyout",
       "prompt_number": 68,
       "text": [
        "[<matplotlib.lines.Line2D at 0x7f3a98824f90>]"
       ]
      },
      {
       "metadata": {},
       "output_type": "display_data",
       "png": "[encoded data removed]",
       "text": [
        "<matplotlib.figure.Figure at 0x7f3a98a2f750>"
       ]
      }
     ],
     "prompt_number": 68
    },
    {
     "cell_type": "code",
     "collapsed": false,
     "input": [
      "plt.plot(platonic_faces, np.log(platonic_shell_paths),'o')\n",
      "plt.plot(archimedean_faces, np.log(archimedean_shell_paths),'ro')\n",
      "plt.plot(catalan_faces, np.log(catalan_shell_paths),'go')"
     ],
     "language": "python",
     "metadata": {},
     "outputs": [
      {
       "metadata": {},
       "output_type": "pyout",
       "prompt_number": 69,
       "text": [
        "[<matplotlib.lines.Line2D at 0x7f3a98767e10>]"
       ]
      },
      {
       "metadata": {},
       "output_type": "display_data",
       "png": "[encoded data removed]",
       "text": [
        "<matplotlib.figure.Figure at 0x7f3a98ae33d0>"
       ]
      }
     ],
     "prompt_number": 69
    }
   ],
   "metadata": {}
  }
 ]
}